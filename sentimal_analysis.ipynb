{
  "nbformat": 4,
  "nbformat_minor": 0,
  "metadata": {
    "colab": {
      "provenance": []
    },
    "kernelspec": {
      "name": "python3",
      "display_name": "Python 3"
    },
    "language_info": {
      "name": "python"
    }
  },
  "cells": [
    {
      "cell_type": "code",
      "execution_count": null,
      "metadata": {
        "colab": {
          "base_uri": "https://localhost:8080/"
        },
        "id": "Zcr54X7nzDeQ",
        "outputId": "c1114228-8317-401e-c201-0b7c82a06f8b"
      },
      "outputs": [
        {
          "output_type": "stream",
          "name": "stdout",
          "text": [
            "Welcome to the Sentiment Analysis Tool!\n",
            "Type 'exit' to end the program.\n",
            "Enter text to analyze sentiment: good\n",
            "Sentiment: Positive\n",
            "Polarity Score: 0.7\n",
            "--------------------------------------------------\n",
            "Enter text to analyze sentiment: bad\n",
            "Sentiment: Negative\n",
            "Polarity Score: -0.6999999999999998\n",
            "--------------------------------------------------\n",
            "Enter text to analyze sentiment: perfect\n",
            "Sentiment: Positive\n",
            "Polarity Score: 1.0\n",
            "--------------------------------------------------\n",
            "Enter text to analyze sentiment: worst\n",
            "Sentiment: Negative\n",
            "Polarity Score: -1.0\n",
            "--------------------------------------------------\n",
            "Enter text to analyze sentiment: not good\n",
            "Sentiment: Negative\n",
            "Polarity Score: -0.35\n",
            "--------------------------------------------------\n",
            "Enter text to analyze sentiment: not bad\n",
            "Sentiment: Positive\n",
            "Polarity Score: 0.3499999999999999\n",
            "--------------------------------------------------\n",
            "Enter text to analyze sentiment: quit\n",
            "Sentiment: Neutral\n",
            "Polarity Score: 0.0\n",
            "--------------------------------------------------\n",
            "Enter text to analyze sentiment: happy\n",
            "Sentiment: Positive\n",
            "Polarity Score: 0.8\n",
            "--------------------------------------------------\n",
            "Enter text to analyze sentiment: exit\n",
            "Goodbye!\n"
          ]
        }
      ],
      "source": [
        "from textblob import TextBlob\n",
        "\n",
        "def analyze_sentiment():\n",
        "    print(\"Welcome to the Sentiment Analysis Tool!\")\n",
        "    print(\"Type 'exit' to end the program.\")\n",
        "\n",
        "    while True:\n",
        "        # Get user input\n",
        "        text = input(\"Enter text to analyze sentiment: \")\n",
        "\n",
        "        # Exit condition\n",
        "        if text.lower() == 'exit':\n",
        "            print(\"Goodbye!\")\n",
        "            break\n",
        "\n",
        "        # Create a TextBlob object\n",
        "        blob = TextBlob(text)\n",
        "\n",
        "        # Get the sentiment polarity (-1 to 1 scale, where -1 is negative and 1 is positive)\n",
        "        polarity = blob.sentiment.polarity\n",
        "\n",
        "        # Determine sentiment\n",
        "        if polarity > 0:\n",
        "            sentiment = \"Positive\"\n",
        "        elif polarity < 0:\n",
        "            sentiment = \"Negative\"\n",
        "        else:\n",
        "            sentiment = \"Neutral\"\n",
        "\n",
        "        print(f\"Sentiment: {sentiment}\")\n",
        "        print(f\"Polarity Score: {polarity}\")\n",
        "        print(\"-\" * 50)\n",
        "\n",
        "# Call the function to start the analysis\n",
        "analyze_sentiment()\n"
      ]
    }
  ]
}